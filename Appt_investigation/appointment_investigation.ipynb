{
 "cells": [
  {
   "cell_type": "markdown",
   "metadata": {},
   "source": [
    "\n",
    "\n",
    "# Project: Investigate a Dataset - [No-show Appointments]\n",
    "\n",
    "## Table of Contents\n",
    "<ul>\n",
    "<li><a href=\"#intro\">Introduction</a></li>\n",
    "<li><a href=\"#wrangling\">Data Wrangling</a></li>\n",
    "<li><a href=\"#eda\">Exploratory Data Analysis</a></li>\n",
    "<li><a href=\"#conclusions\">Conclusions</a></li>\n",
    "</ul>"
   ]
  },
  {
   "cell_type": "markdown",
   "metadata": {},
   "source": [
    "<a id='intro'></a>\n",
    "\n",
    "\n",
    "## INTRODUCTION\n",
    "### Dataset Description\n",
    ">A person, wanting to see a doctor, calls to book an appointment and end up not show up for their scheduled appointment. This dataset contains data from 100k Brazilian medical appointments and it shows details of patients that show up for their appointments and those that do not. Each row is a unique identity of individuals who were booked for an appointment. The columns contain the variable entry about the subject. Below is a list of the column names and their meaning.\n",
    "Data Dictionary\n",
    "><ol>\n",
    "  <li>PatientId: Each Patient's unique identity number</li>\n",
    "  <li>AppointmentID: Each appointment's identification</li>\n",
    "  <li>Gender: Male or Female</li>\n",
    "  <li>Appointment_Day: The appointment day the patient booked</li>\n",
    "  <li>Booking_Day: The day the patient called to schedule an appointment day</li>\n",
    "  <li>Age: The age of the patient</li>\n",
    "  <li>Neighbourhood: The location for the scheduled appointment</li>\n",
    "  <li>Scholarship: The patient is a beneficiary of Bolsa Família scholarship scheme</li>\n",
    "  <li>Hypertension: The patient has high blood pressure</li>\n",
    "  <li>Diabetes: The patient suffers from Diabetes</li>\n",
    "  <li>Alcoholism: The patient is a addicted to alcoholic drinks</li>\n",
    "  <li>Handcap: The patient is physically disabled</li>\n",
    "  <li>SMS_received: The patient received an SMS as reminder of scheduled appointment</li>\n",
    "  <li>No-show: The patient did not show up for the scheduled appointment</li>\n",
    "</ol>\n",
    "\n",
    "### Question(s) for Analysis\n",
    "1. Does gender play a role in patients not showing up?\n",
    "2. What factors are important to note in order to predict if a patient will show up for their scheduled appointment? \n",
    "- How many people did not show up?\n",
    "- What is the age distribution that schedules an appointment?\n",
    "- The difference in time of scheduled date and appointment date\n",
    "- Those who received SMS show up?\n",
    "- Health conditions?"
   ]
  },
  {
   "cell_type": "code",
   "execution_count": null,
   "metadata": {},
   "outputs": [
    {
     "name": "stdout",
     "output_type": "stream",
     "text": [
      "Collecting jupyter_to_medium\n",
      "  Downloading jupyter_to_medium-0.2.13-py3-none-any.whl (32 kB)\n",
      "Requirement already satisfied: jinja2==3.0.3 in /opt/anaconda3/envs/alx1/lib/python3.9/site-packages (from jupyter_to_medium) (3.0.3)\n",
      "Collecting jupyter-contrib-nbextensions<0.8.0,>=0.7.0\n",
      "  Downloading jupyter_contrib_nbextensions-0.7.0.tar.gz (23.5 MB)\n",
      "\u001b[K     |████████████████████████████████| 23.5 MB 15.6 MB/s eta 0:00:01\n",
      "\u001b[?25hCollecting matplotlib<4.0.0,>=3.7.1\n",
      "  Downloading matplotlib-3.9.1-cp39-cp39-macosx_10_12_x86_64.whl (7.9 MB)\n",
      "\u001b[K     |████████████████████████████████| 7.9 MB 12.0 MB/s eta 0:00:01\n",
      "\u001b[?25hCollecting numpy<2.0.0,>=1.24.2\n",
      "  Downloading numpy-1.26.4-cp39-cp39-macosx_10_9_x86_64.whl (20.6 MB)\n",
      "\u001b[K     |████████████████████████████████| 20.6 MB 486 kB/s  eta 0:00:01\n",
      "\u001b[?25hCollecting beautifulsoup4<5.0.0,>=4.12.0\n",
      "  Downloading beautifulsoup4-4.12.3-py3-none-any.whl (147 kB)\n",
      "\u001b[K     |████████████████████████████████| 147 kB 25.6 MB/s eta 0:00:01\n",
      "\u001b[?25hCollecting nbconvert<8.0.0,>=7.2.10\n",
      "  Downloading nbconvert-7.16.4-py3-none-any.whl (257 kB)\n",
      "\u001b[K     |████████████████████████████████| 257 kB 23.5 MB/s eta 0:00:01\n",
      "\u001b[?25hCollecting requests<3.0.0,>=2.28.2\n",
      "  Downloading requests-2.32.3-py3-none-any.whl (64 kB)\n",
      "\u001b[K     |████████████████████████████████| 64 kB 9.2 MB/s  eta 0:00:01\n",
      "\u001b[?25hRequirement already satisfied: jupyter<2.0.0,>=1.0.0 in /opt/anaconda3/envs/alx1/lib/python3.9/site-packages (from jupyter_to_medium) (1.0.0)\n",
      "Requirement already satisfied: MarkupSafe>=2.0 in /opt/anaconda3/envs/alx1/lib/python3.9/site-packages (from jinja2==3.0.3->jupyter_to_medium) (2.0.1)\n",
      "Requirement already satisfied: soupsieve>1.2 in /opt/anaconda3/envs/alx1/lib/python3.9/site-packages (from beautifulsoup4<5.0.0,>=4.12.0->jupyter_to_medium) (2.3.1)\n",
      "Requirement already satisfied: qtconsole in /opt/anaconda3/envs/alx1/lib/python3.9/site-packages (from jupyter<2.0.0,>=1.0.0->jupyter_to_medium) (5.3.0)\n",
      "Requirement already satisfied: jupyter-console in /opt/anaconda3/envs/alx1/lib/python3.9/site-packages (from jupyter<2.0.0,>=1.0.0->jupyter_to_medium) (6.4.3)\n",
      "Requirement already satisfied: notebook in /opt/anaconda3/envs/alx1/lib/python3.9/site-packages (from jupyter<2.0.0,>=1.0.0->jupyter_to_medium) (6.4.11)\n",
      "Requirement already satisfied: ipywidgets in /opt/anaconda3/envs/alx1/lib/python3.9/site-packages (from jupyter<2.0.0,>=1.0.0->jupyter_to_medium) (7.6.5)\n",
      "Requirement already satisfied: ipykernel in /opt/anaconda3/envs/alx1/lib/python3.9/site-packages (from jupyter<2.0.0,>=1.0.0->jupyter_to_medium) (6.13.0)\n",
      "Requirement already satisfied: ipython_genutils in /opt/anaconda3/envs/alx1/lib/python3.9/site-packages (from jupyter-contrib-nbextensions<0.8.0,>=0.7.0->jupyter_to_medium) (0.2.0)\n",
      "Collecting jupyter_contrib_core>=0.3.3\n",
      "  Downloading jupyter_contrib_core-0.4.2.tar.gz (17 kB)\n",
      "Requirement already satisfied: jupyter_core in /opt/anaconda3/envs/alx1/lib/python3.9/site-packages (from jupyter-contrib-nbextensions<0.8.0,>=0.7.0->jupyter_to_medium) (4.10.0)\n",
      "Collecting jupyter_highlight_selected_word>=0.1.1\n",
      "  Downloading jupyter_highlight_selected_word-0.2.0-py2.py3-none-any.whl (11 kB)\n",
      "Collecting jupyter_nbextensions_configurator>=0.4.0\n",
      "  Downloading jupyter_nbextensions_configurator-0.6.4-py2.py3-none-any.whl (466 kB)\n",
      "\u001b[K     |████████████████████████████████| 466 kB 19.1 MB/s eta 0:00:01\n",
      "\u001b[?25hRequirement already satisfied: tornado in /opt/anaconda3/envs/alx1/lib/python3.9/site-packages (from jupyter-contrib-nbextensions<0.8.0,>=0.7.0->jupyter_to_medium) (6.1)\n",
      "Requirement already satisfied: traitlets>=4.1 in /opt/anaconda3/envs/alx1/lib/python3.9/site-packages (from jupyter-contrib-nbextensions<0.8.0,>=0.7.0->jupyter_to_medium) (5.1.1)\n",
      "Requirement already satisfied: lxml in /opt/anaconda3/envs/alx1/lib/python3.9/site-packages (from jupyter-contrib-nbextensions<0.8.0,>=0.7.0->jupyter_to_medium) (4.8.0)\n",
      "Requirement already satisfied: setuptools in /opt/anaconda3/envs/alx1/lib/python3.9/site-packages (from jupyter_contrib_core>=0.3.3->jupyter-contrib-nbextensions<0.8.0,>=0.7.0->jupyter_to_medium) (61.2.0)\n",
      "Requirement already satisfied: pyyaml in /opt/anaconda3/envs/alx1/lib/python3.9/site-packages (from jupyter_nbextensions_configurator>=0.4.0->jupyter-contrib-nbextensions<0.8.0,>=0.7.0->jupyter_to_medium) (5.4.1)\n",
      "Collecting jupyter-server\n",
      "  Downloading jupyter_server-2.14.2-py3-none-any.whl (383 kB)\n",
      "\u001b[K     |████████████████████████████████| 383 kB 10.9 MB/s eta 0:00:01\n",
      "\u001b[?25hRequirement already satisfied: fonttools>=4.22.0 in /opt/anaconda3/envs/alx1/lib/python3.9/site-packages (from matplotlib<4.0.0,>=3.7.1->jupyter_to_medium) (4.25.0)\n",
      "Requirement already satisfied: kiwisolver>=1.3.1 in /opt/anaconda3/envs/alx1/lib/python3.9/site-packages (from matplotlib<4.0.0,>=3.7.1->jupyter_to_medium) (1.3.2)\n",
      "Requirement already satisfied: pyparsing>=2.3.1 in /opt/anaconda3/envs/alx1/lib/python3.9/site-packages (from matplotlib<4.0.0,>=3.7.1->jupyter_to_medium) (3.0.4)\n",
      "Requirement already satisfied: packaging>=20.0 in /opt/anaconda3/envs/alx1/lib/python3.9/site-packages (from matplotlib<4.0.0,>=3.7.1->jupyter_to_medium) (21.3)\n",
      "Requirement already satisfied: pillow>=8 in /opt/anaconda3/envs/alx1/lib/python3.9/site-packages (from matplotlib<4.0.0,>=3.7.1->jupyter_to_medium) (9.1.1)\n",
      "Collecting importlib-resources>=3.2.0\n",
      "  Downloading importlib_resources-6.4.0-py3-none-any.whl (38 kB)\n",
      "Requirement already satisfied: cycler>=0.10 in /opt/anaconda3/envs/alx1/lib/python3.9/site-packages (from matplotlib<4.0.0,>=3.7.1->jupyter_to_medium) (0.11.0)\n",
      "Collecting contourpy>=1.0.1\n",
      "  Downloading contourpy-1.2.1-cp39-cp39-macosx_10_9_x86_64.whl (260 kB)\n",
      "\u001b[K     |████████████████████████████████| 260 kB 23.6 MB/s eta 0:00:01\n",
      "\u001b[?25hRequirement already satisfied: python-dateutil>=2.7 in /opt/anaconda3/envs/alx1/lib/python3.9/site-packages (from matplotlib<4.0.0,>=3.7.1->jupyter_to_medium) (2.8.2)\n",
      "Requirement already satisfied: zipp>=3.1.0 in /opt/anaconda3/envs/alx1/lib/python3.9/site-packages (from importlib-resources>=3.2.0->matplotlib<4.0.0,>=3.7.1->jupyter_to_medium) (3.19.2)\n",
      "Requirement already satisfied: jupyterlab-pygments in /opt/anaconda3/envs/alx1/lib/python3.9/site-packages (from nbconvert<8.0.0,>=7.2.10->jupyter_to_medium) (0.1.2)\n",
      "Requirement already satisfied: nbclient>=0.5.0 in /opt/anaconda3/envs/alx1/lib/python3.9/site-packages (from nbconvert<8.0.0,>=7.2.10->jupyter_to_medium) (0.5.13)\n",
      "Requirement already satisfied: pandocfilters>=1.4.1 in /opt/anaconda3/envs/alx1/lib/python3.9/site-packages (from nbconvert<8.0.0,>=7.2.10->jupyter_to_medium) (1.5.0)\n",
      "Requirement already satisfied: importlib-metadata>=3.6 in /opt/anaconda3/envs/alx1/lib/python3.9/site-packages (from nbconvert<8.0.0,>=7.2.10->jupyter_to_medium) (8.0.0)\n",
      "Requirement already satisfied: bleach!=5.0.0 in /opt/anaconda3/envs/alx1/lib/python3.9/site-packages (from nbconvert<8.0.0,>=7.2.10->jupyter_to_medium) (4.1.0)\n",
      "Requirement already satisfied: pygments>=2.4.1 in /opt/anaconda3/envs/alx1/lib/python3.9/site-packages (from nbconvert<8.0.0,>=7.2.10->jupyter_to_medium) (2.11.2)\n",
      "Collecting tinycss2\n",
      "  Downloading tinycss2-1.3.0-py3-none-any.whl (22 kB)\n",
      "Collecting mistune<4,>=2.0.3\n",
      "  Downloading mistune-3.0.2-py3-none-any.whl (47 kB)\n",
      "\u001b[K     |████████████████████████████████| 47 kB 8.2 MB/s eta 0:00:01\n",
      "\u001b[?25hCollecting nbformat>=5.7\n",
      "  Downloading nbformat-5.10.4-py3-none-any.whl (78 kB)\n",
      "\u001b[K     |████████████████████████████████| 78 kB 16.3 MB/s eta 0:00:01\n",
      "\u001b[?25hRequirement already satisfied: defusedxml in /opt/anaconda3/envs/alx1/lib/python3.9/site-packages (from nbconvert<8.0.0,>=7.2.10->jupyter_to_medium) (0.7.1)\n",
      "Requirement already satisfied: webencodings in /opt/anaconda3/envs/alx1/lib/python3.9/site-packages (from bleach!=5.0.0->nbconvert<8.0.0,>=7.2.10->jupyter_to_medium) (0.5.1)\n",
      "Requirement already satisfied: six>=1.9.0 in ./.local/lib/python3.9/site-packages (from bleach!=5.0.0->nbconvert<8.0.0,>=7.2.10->jupyter_to_medium) (1.12.0)\n",
      "Requirement already satisfied: jupyter-client>=6.1.5 in /opt/anaconda3/envs/alx1/lib/python3.9/site-packages (from nbclient>=0.5.0->nbconvert<8.0.0,>=7.2.10->jupyter_to_medium) (7.2.2)\n",
      "Requirement already satisfied: nest-asyncio in /opt/anaconda3/envs/alx1/lib/python3.9/site-packages (from nbclient>=0.5.0->nbconvert<8.0.0,>=7.2.10->jupyter_to_medium) (1.5.5)\n",
      "Requirement already satisfied: pyzmq>=22.3 in /opt/anaconda3/envs/alx1/lib/python3.9/site-packages (from jupyter-client>=6.1.5->nbclient>=0.5.0->nbconvert<8.0.0,>=7.2.10->jupyter_to_medium) (22.3.0)\n",
      "Requirement already satisfied: entrypoints in /opt/anaconda3/envs/alx1/lib/python3.9/site-packages (from jupyter-client>=6.1.5->nbclient>=0.5.0->nbconvert<8.0.0,>=7.2.10->jupyter_to_medium) (0.4)\n",
      "Requirement already satisfied: jsonschema>=2.6 in /opt/anaconda3/envs/alx1/lib/python3.9/site-packages (from nbformat>=5.7->nbconvert<8.0.0,>=7.2.10->jupyter_to_medium) (4.4.0)\n"
     ]
    },
    {
     "name": "stdout",
     "output_type": "stream",
     "text": [
      "Collecting jupyter_core\n",
      "  Downloading jupyter_core-5.7.2-py3-none-any.whl (28 kB)\n",
      "Requirement already satisfied: fastjsonschema>=2.15 in /opt/anaconda3/envs/alx1/lib/python3.9/site-packages (from nbformat>=5.7->nbconvert<8.0.0,>=7.2.10->jupyter_to_medium) (2.15.1)\n",
      "Requirement already satisfied: attrs>=17.4.0 in /opt/anaconda3/envs/alx1/lib/python3.9/site-packages (from jsonschema>=2.6->nbformat>=5.7->nbconvert<8.0.0,>=7.2.10->jupyter_to_medium) (21.4.0)\n",
      "Requirement already satisfied: pyrsistent!=0.17.0,!=0.17.1,!=0.17.2,>=0.14.0 in /opt/anaconda3/envs/alx1/lib/python3.9/site-packages (from jsonschema>=2.6->nbformat>=5.7->nbconvert<8.0.0,>=7.2.10->jupyter_to_medium) (0.18.0)\n",
      "Collecting traitlets>=4.1\n",
      "  Downloading traitlets-5.14.3-py3-none-any.whl (85 kB)\n",
      "\u001b[K     |████████████████████████████████| 85 kB 17.7 MB/s eta 0:00:01\n",
      "\u001b[?25hRequirement already satisfied: platformdirs>=2.5 in /opt/anaconda3/envs/alx1/lib/python3.9/site-packages (from jupyter_core->jupyter-contrib-nbextensions<0.8.0,>=0.7.0->jupyter_to_medium) (2.5.2)\n",
      "Requirement already satisfied: prometheus-client in /opt/anaconda3/envs/alx1/lib/python3.9/site-packages (from notebook->jupyter<2.0.0,>=1.0.0->jupyter_to_medium) (0.13.1)\n",
      "Requirement already satisfied: Send2Trash>=1.8.0 in /opt/anaconda3/envs/alx1/lib/python3.9/site-packages (from notebook->jupyter<2.0.0,>=1.0.0->jupyter_to_medium) (1.8.0)\n",
      "Requirement already satisfied: terminado>=0.8.3 in /opt/anaconda3/envs/alx1/lib/python3.9/site-packages (from notebook->jupyter<2.0.0,>=1.0.0->jupyter_to_medium) (0.13.1)\n",
      "Requirement already satisfied: argon2-cffi in /opt/anaconda3/envs/alx1/lib/python3.9/site-packages (from notebook->jupyter<2.0.0,>=1.0.0->jupyter_to_medium) (21.3.0)\n",
      "Requirement already satisfied: idna<4,>=2.5 in ./.local/lib/python3.9/site-packages (from requests<3.0.0,>=2.28.2->jupyter_to_medium) (2.8)\n",
      "Requirement already satisfied: certifi>=2017.4.17 in /opt/anaconda3/envs/alx1/lib/python3.9/site-packages (from requests<3.0.0,>=2.28.2->jupyter_to_medium) (2022.5.18.1)\n",
      "Requirement already satisfied: urllib3<3,>=1.21.1 in /opt/anaconda3/envs/alx1/lib/python3.9/site-packages (from requests<3.0.0,>=2.28.2->jupyter_to_medium) (1.26.18)\n",
      "Requirement already satisfied: charset-normalizer<4,>=2 in /opt/anaconda3/envs/alx1/lib/python3.9/site-packages (from requests<3.0.0,>=2.28.2->jupyter_to_medium) (2.0.12)\n",
      "Requirement already satisfied: ptyprocess in /opt/anaconda3/envs/alx1/lib/python3.9/site-packages (from terminado>=0.8.3->notebook->jupyter<2.0.0,>=1.0.0->jupyter_to_medium) (0.7.0)\n",
      "Requirement already satisfied: argon2-cffi-bindings in /opt/anaconda3/envs/alx1/lib/python3.9/site-packages (from argon2-cffi->notebook->jupyter<2.0.0,>=1.0.0->jupyter_to_medium) (21.2.0)\n",
      "Requirement already satisfied: cffi>=1.0.1 in /opt/anaconda3/envs/alx1/lib/python3.9/site-packages (from argon2-cffi-bindings->argon2-cffi->notebook->jupyter<2.0.0,>=1.0.0->jupyter_to_medium) (1.15.0)\n",
      "Requirement already satisfied: pycparser in /opt/anaconda3/envs/alx1/lib/python3.9/site-packages (from cffi>=1.0.1->argon2-cffi-bindings->argon2-cffi->notebook->jupyter<2.0.0,>=1.0.0->jupyter_to_medium) (2.21)\n",
      "Requirement already satisfied: debugpy>=1.0 in /opt/anaconda3/envs/alx1/lib/python3.9/site-packages (from ipykernel->jupyter<2.0.0,>=1.0.0->jupyter_to_medium) (1.5.1)\n",
      "Requirement already satisfied: ipython>=7.23.1 in /opt/anaconda3/envs/alx1/lib/python3.9/site-packages (from ipykernel->jupyter<2.0.0,>=1.0.0->jupyter_to_medium) (8.4.0)\n",
      "Requirement already satisfied: appnope in /opt/anaconda3/envs/alx1/lib/python3.9/site-packages (from ipykernel->jupyter<2.0.0,>=1.0.0->jupyter_to_medium) (0.1.2)\n",
      "Requirement already satisfied: psutil in /opt/anaconda3/envs/alx1/lib/python3.9/site-packages (from ipykernel->jupyter<2.0.0,>=1.0.0->jupyter_to_medium) (5.9.1)\n",
      "Requirement already satisfied: matplotlib-inline>=0.1 in /opt/anaconda3/envs/alx1/lib/python3.9/site-packages (from ipykernel->jupyter<2.0.0,>=1.0.0->jupyter_to_medium) (0.1.2)\n",
      "Requirement already satisfied: pickleshare in /opt/anaconda3/envs/alx1/lib/python3.9/site-packages (from ipython>=7.23.1->ipykernel->jupyter<2.0.0,>=1.0.0->jupyter_to_medium) (0.7.5)\n",
      "Requirement already satisfied: stack-data in /opt/anaconda3/envs/alx1/lib/python3.9/site-packages (from ipython>=7.23.1->ipykernel->jupyter<2.0.0,>=1.0.0->jupyter_to_medium) (0.2.0)\n",
      "Requirement already satisfied: jedi>=0.16 in /opt/anaconda3/envs/alx1/lib/python3.9/site-packages (from ipython>=7.23.1->ipykernel->jupyter<2.0.0,>=1.0.0->jupyter_to_medium) (0.18.1)\n",
      "Requirement already satisfied: backcall in /opt/anaconda3/envs/alx1/lib/python3.9/site-packages (from ipython>=7.23.1->ipykernel->jupyter<2.0.0,>=1.0.0->jupyter_to_medium) (0.2.0)\n",
      "Requirement already satisfied: pexpect>4.3 in /opt/anaconda3/envs/alx1/lib/python3.9/site-packages (from ipython>=7.23.1->ipykernel->jupyter<2.0.0,>=1.0.0->jupyter_to_medium) (4.8.0)\n",
      "Requirement already satisfied: decorator in /opt/anaconda3/envs/alx1/lib/python3.9/site-packages (from ipython>=7.23.1->ipykernel->jupyter<2.0.0,>=1.0.0->jupyter_to_medium) (5.1.1)\n",
      "Requirement already satisfied: prompt-toolkit!=3.0.0,!=3.0.1,<3.1.0,>=2.0.0 in /opt/anaconda3/envs/alx1/lib/python3.9/site-packages (from ipython>=7.23.1->ipykernel->jupyter<2.0.0,>=1.0.0->jupyter_to_medium) (3.0.29)\n",
      "Requirement already satisfied: parso<0.9.0,>=0.8.0 in /opt/anaconda3/envs/alx1/lib/python3.9/site-packages (from jedi>=0.16->ipython>=7.23.1->ipykernel->jupyter<2.0.0,>=1.0.0->jupyter_to_medium) (0.8.3)\n",
      "Requirement already satisfied: wcwidth in /opt/anaconda3/envs/alx1/lib/python3.9/site-packages (from prompt-toolkit!=3.0.0,!=3.0.1,<3.1.0,>=2.0.0->ipython>=7.23.1->ipykernel->jupyter<2.0.0,>=1.0.0->jupyter_to_medium) (0.2.5)\n",
      "Requirement already satisfied: widgetsnbextension~=3.5.0 in /opt/anaconda3/envs/alx1/lib/python3.9/site-packages (from ipywidgets->jupyter<2.0.0,>=1.0.0->jupyter_to_medium) (3.5.2)\n",
      "Requirement already satisfied: jupyterlab-widgets>=1.0.0 in /opt/anaconda3/envs/alx1/lib/python3.9/site-packages (from ipywidgets->jupyter<2.0.0,>=1.0.0->jupyter_to_medium) (1.0.0)\n",
      "Collecting websocket-client>=1.7\n",
      "  Downloading websocket_client-1.8.0-py3-none-any.whl (58 kB)\n",
      "\u001b[K     |████████████████████████████████| 58 kB 15.0 MB/s eta 0:00:01\n",
      "\u001b[?25hCollecting jupyter-client>=6.1.5\n",
      "  Downloading jupyter_client-8.6.2-py3-none-any.whl (105 kB)\n",
      "\u001b[K     |████████████████████████████████| 105 kB 21.9 MB/s eta 0:00:01\n",
      "\u001b[?25hCollecting packaging>=20.0\n",
      "  Downloading packaging-24.1-py3-none-any.whl (53 kB)\n",
      "\u001b[K     |████████████████████████████████| 53 kB 12.5 MB/s eta 0:00:01\n",
      "\u001b[?25hCollecting pyzmq>=22.3\n",
      "  Downloading pyzmq-26.0.3-cp39-cp39-macosx_10_15_universal2.whl (1.4 MB)\n",
      "\u001b[K     |████████████████████████████████| 1.4 MB 8.6 MB/s eta 0:00:01\n",
      "\u001b[?25hCollecting jupyter-events>=0.9.0\n",
      "  Downloading jupyter_events-0.10.0-py3-none-any.whl (18 kB)\n",
      "Collecting jupyter-server-terminals>=0.4.4\n",
      "  Downloading jupyter_server_terminals-0.5.3-py3-none-any.whl (13 kB)\n",
      "Collecting Send2Trash>=1.8.0\n",
      "  Downloading Send2Trash-1.8.3-py3-none-any.whl (18 kB)\n",
      "Collecting overrides>=5.0\n",
      "  Downloading overrides-7.7.0-py3-none-any.whl (17 kB)\n",
      "Collecting tornado\n",
      "  Downloading tornado-6.4.1-cp38-abi3-macosx_10_9_x86_64.whl (433 kB)\n",
      "\u001b[K     |████████████████████████████████| 433 kB 24.7 MB/s eta 0:00:01\n",
      "\u001b[?25hCollecting anyio>=3.1.0\n",
      "  Downloading anyio-4.4.0-py3-none-any.whl (86 kB)\n",
      "\u001b[K     |████████████████████████████████| 86 kB 15.2 MB/s eta 0:00:01\n",
      "\u001b[?25hRequirement already satisfied: typing-extensions>=4.1 in /opt/anaconda3/envs/alx1/lib/python3.9/site-packages (from anyio>=3.1.0->jupyter-server->jupyter_nbextensions_configurator>=0.4.0->jupyter-contrib-nbextensions<0.8.0,>=0.7.0->jupyter_to_medium) (4.1.1)\n",
      "Collecting sniffio>=1.1\n",
      "  Downloading sniffio-1.3.1-py3-none-any.whl (10 kB)\n",
      "Requirement already satisfied: exceptiongroup>=1.0.2 in /opt/anaconda3/envs/alx1/lib/python3.9/site-packages (from anyio>=3.1.0->jupyter-server->jupyter_nbextensions_configurator>=0.4.0->jupyter-contrib-nbextensions<0.8.0,>=0.7.0->jupyter_to_medium) (1.0.4)\n",
      "Collecting python-json-logger>=2.0.4\n",
      "  Downloading python_json_logger-2.0.7-py3-none-any.whl (8.1 kB)\n",
      "Collecting referencing\n",
      "  Downloading referencing-0.35.1-py3-none-any.whl (26 kB)\n"
     ]
    },
    {
     "name": "stdout",
     "output_type": "stream",
     "text": [
      "Collecting jsonschema[format-nongpl]>=4.18.0\n",
      "  Downloading jsonschema-4.23.0-py3-none-any.whl (88 kB)\n",
      "\u001b[K     |████████████████████████████████| 88 kB 18.5 MB/s eta 0:00:01\n",
      "\u001b[?25hCollecting rfc3339-validator\n",
      "  Downloading rfc3339_validator-0.1.4-py2.py3-none-any.whl (3.5 kB)\n",
      "Collecting rfc3986-validator>=0.1.1\n",
      "  Downloading rfc3986_validator-0.1.1-py2.py3-none-any.whl (4.2 kB)\n",
      "Collecting jsonschema-specifications>=2023.03.6\n",
      "  Downloading jsonschema_specifications-2023.12.1-py3-none-any.whl (18 kB)\n",
      "Collecting attrs>=17.4.0\n",
      "  Downloading attrs-23.2.0-py3-none-any.whl (60 kB)\n",
      "\u001b[K     |████████████████████████████████| 60 kB 19.0 MB/s eta 0:00:01\n",
      "\u001b[?25hCollecting rpds-py>=0.7.1\n",
      "  Downloading rpds_py-0.19.0-cp39-cp39-macosx_10_12_x86_64.whl (318 kB)\n",
      "\u001b[K     |████████████████████████████████| 318 kB 14.4 MB/s eta 0:00:01\n",
      "\u001b[?25hCollecting webcolors>=24.6.0\n",
      "  Downloading webcolors-24.6.0-py3-none-any.whl (14 kB)\n",
      "Collecting isoduration\n",
      "  Downloading isoduration-20.11.0-py3-none-any.whl (11 kB)\n",
      "Collecting jsonpointer>1.13\n",
      "  Downloading jsonpointer-3.0.0-py2.py3-none-any.whl (7.6 kB)\n",
      "Collecting uri-template\n",
      "  Downloading uri_template-1.3.0-py3-none-any.whl (11 kB)\n",
      "Collecting fqdn\n",
      "  Downloading fqdn-1.5.1-py3-none-any.whl (9.1 kB)\n",
      "Collecting arrow>=0.15.0\n",
      "  Downloading arrow-1.3.0-py3-none-any.whl (66 kB)\n",
      "\u001b[K     |████████████████████████████████| 66 kB 14.3 MB/s eta 0:00:01\n",
      "\u001b[?25hCollecting types-python-dateutil>=2.8.10\n",
      "  Downloading types_python_dateutil-2.9.0.20240316-py3-none-any.whl (9.7 kB)\n",
      "Requirement already satisfied: qtpy>=2.0.1 in /opt/anaconda3/envs/alx1/lib/python3.9/site-packages (from qtconsole->jupyter<2.0.0,>=1.0.0->jupyter_to_medium) (2.0.1)\n",
      "Requirement already satisfied: pure-eval in /opt/anaconda3/envs/alx1/lib/python3.9/site-packages (from stack-data->ipython>=7.23.1->ipykernel->jupyter<2.0.0,>=1.0.0->jupyter_to_medium) (0.2.2)\n",
      "Requirement already satisfied: asttokens in /opt/anaconda3/envs/alx1/lib/python3.9/site-packages (from stack-data->ipython>=7.23.1->ipykernel->jupyter<2.0.0,>=1.0.0->jupyter_to_medium) (2.0.5)\n",
      "Requirement already satisfied: executing in /opt/anaconda3/envs/alx1/lib/python3.9/site-packages (from stack-data->ipython>=7.23.1->ipykernel->jupyter<2.0.0,>=1.0.0->jupyter_to_medium) (0.8.3)\n",
      "Building wheels for collected packages: jupyter-contrib-nbextensions, jupyter-contrib-core\n",
      "  Building wheel for jupyter-contrib-nbextensions (setup.py) ... \u001b[?25l/"
     ]
    }
   ],
   "source": [
    "pip install jupyter_to_medium"
   ]
  },
  {
   "cell_type": "code",
   "execution_count": 1,
   "metadata": {},
   "outputs": [],
   "source": [
    "# Use this cell to set up import statements for all of the packages that you\n",
    "#   plan to use.\n",
    "\n",
    "# Remember to include a 'magic word' so that your visualizations are plotted\n",
    "#   inline with the notebook. See this page for more:\n",
    "#   http://ipython.readthedocs.io/en/stable/interactive/magics.html\n",
    "\n",
    "import pandas as pd\n",
    "import numpy as np\n",
    "import matplotlib.pyplot as plt"
   ]
  },
  {
   "cell_type": "code",
   "execution_count": 2,
   "metadata": {},
   "outputs": [
    {
     "name": "stdout",
     "output_type": "stream",
     "text": [
      "Requirement already up-to-date: pandas==0.25.0 in /opt/conda/lib/python3.6/site-packages (0.25.0)\r\n",
      "Requirement already satisfied, skipping upgrade: numpy>=1.13.3 in /opt/conda/lib/python3.6/site-packages (from pandas==0.25.0) (1.19.5)\r\n",
      "Requirement already satisfied, skipping upgrade: python-dateutil>=2.6.1 in /opt/conda/lib/python3.6/site-packages (from pandas==0.25.0) (2.6.1)\r\n",
      "Requirement already satisfied, skipping upgrade: pytz>=2017.2 in /opt/conda/lib/python3.6/site-packages (from pandas==0.25.0) (2017.3)\r\n",
      "Requirement already satisfied, skipping upgrade: six>=1.5 in /opt/conda/lib/python3.6/site-packages (from python-dateutil>=2.6.1->pandas==0.25.0) (1.11.0)\r\n"
     ]
    }
   ],
   "source": [
    "# Upgrade pandas to use dataframe.explode() function. \n",
    "!pip install --upgrade pandas==0.25.0\n",
    "pip install \"nbconvert[webpdf]\""
   ]
  },
  {
   "cell_type": "markdown",
   "metadata": {},
   "source": [
    "<a id='wrangling'></a>\n",
    "## Data Wrangling\n"
   ]
  },
  {
   "cell_type": "code",
   "execution_count": 6,
   "metadata": {},
   "outputs": [],
   "source": [
    "#install the version of pandas that will be needed for the analysis\n",
    "#!pip install --upgrade pandas==1.1.5"
   ]
  },
  {
   "cell_type": "code",
   "execution_count": 3,
   "metadata": {},
   "outputs": [
    {
     "data": {
      "text/html": [
       "<div>\n",
       "<style scoped>\n",
       "    .dataframe tbody tr th:only-of-type {\n",
       "        vertical-align: middle;\n",
       "    }\n",
       "\n",
       "    .dataframe tbody tr th {\n",
       "        vertical-align: top;\n",
       "    }\n",
       "\n",
       "    .dataframe thead th {\n",
       "        text-align: right;\n",
       "    }\n",
       "</style>\n",
       "<table border=\"1\" class=\"dataframe\">\n",
       "  <thead>\n",
       "    <tr style=\"text-align: right;\">\n",
       "      <th></th>\n",
       "      <th>PatientId</th>\n",
       "      <th>AppointmentID</th>\n",
       "      <th>Gender</th>\n",
       "      <th>Appointment_Day</th>\n",
       "      <th>Booking_Day</th>\n",
       "      <th>Age</th>\n",
       "      <th>Neighbourhood</th>\n",
       "      <th>Scholarship</th>\n",
       "      <th>Hipertension</th>\n",
       "      <th>Diabetes</th>\n",
       "      <th>Alcoholism</th>\n",
       "      <th>Handcap</th>\n",
       "      <th>SMS_received</th>\n",
       "      <th>No-show</th>\n",
       "    </tr>\n",
       "  </thead>\n",
       "  <tbody>\n",
       "    <tr>\n",
       "      <th>0</th>\n",
       "      <td>2.987250e+13</td>\n",
       "      <td>5642903</td>\n",
       "      <td>F</td>\n",
       "      <td>2016-04-29T18:38:08Z</td>\n",
       "      <td>2016-04-29T00:00:00Z</td>\n",
       "      <td>62</td>\n",
       "      <td>JARDIM DA PENHA</td>\n",
       "      <td>0</td>\n",
       "      <td>1</td>\n",
       "      <td>0</td>\n",
       "      <td>0</td>\n",
       "      <td>0</td>\n",
       "      <td>0</td>\n",
       "      <td>No</td>\n",
       "    </tr>\n",
       "    <tr>\n",
       "      <th>1</th>\n",
       "      <td>5.589978e+14</td>\n",
       "      <td>5642503</td>\n",
       "      <td>M</td>\n",
       "      <td>2016-04-29T16:08:27Z</td>\n",
       "      <td>2016-04-29T00:00:00Z</td>\n",
       "      <td>56</td>\n",
       "      <td>JARDIM DA PENHA</td>\n",
       "      <td>0</td>\n",
       "      <td>0</td>\n",
       "      <td>0</td>\n",
       "      <td>0</td>\n",
       "      <td>0</td>\n",
       "      <td>0</td>\n",
       "      <td>No</td>\n",
       "    </tr>\n",
       "    <tr>\n",
       "      <th>2</th>\n",
       "      <td>4.262962e+12</td>\n",
       "      <td>5642549</td>\n",
       "      <td>F</td>\n",
       "      <td>2016-04-29T16:19:04Z</td>\n",
       "      <td>2016-04-29T00:00:00Z</td>\n",
       "      <td>62</td>\n",
       "      <td>MATA DA PRAIA</td>\n",
       "      <td>0</td>\n",
       "      <td>0</td>\n",
       "      <td>0</td>\n",
       "      <td>0</td>\n",
       "      <td>0</td>\n",
       "      <td>0</td>\n",
       "      <td>No</td>\n",
       "    </tr>\n",
       "    <tr>\n",
       "      <th>3</th>\n",
       "      <td>8.679512e+11</td>\n",
       "      <td>5642828</td>\n",
       "      <td>F</td>\n",
       "      <td>2016-04-29T17:29:31Z</td>\n",
       "      <td>2016-04-29T00:00:00Z</td>\n",
       "      <td>8</td>\n",
       "      <td>PONTAL DE CAMBURI</td>\n",
       "      <td>0</td>\n",
       "      <td>0</td>\n",
       "      <td>0</td>\n",
       "      <td>0</td>\n",
       "      <td>0</td>\n",
       "      <td>0</td>\n",
       "      <td>No</td>\n",
       "    </tr>\n",
       "    <tr>\n",
       "      <th>4</th>\n",
       "      <td>8.841186e+12</td>\n",
       "      <td>5642494</td>\n",
       "      <td>F</td>\n",
       "      <td>2016-04-29T16:07:23Z</td>\n",
       "      <td>2016-04-29T00:00:00Z</td>\n",
       "      <td>56</td>\n",
       "      <td>JARDIM DA PENHA</td>\n",
       "      <td>0</td>\n",
       "      <td>1</td>\n",
       "      <td>1</td>\n",
       "      <td>0</td>\n",
       "      <td>0</td>\n",
       "      <td>0</td>\n",
       "      <td>No</td>\n",
       "    </tr>\n",
       "  </tbody>\n",
       "</table>\n",
       "</div>"
      ],
      "text/plain": [
       "      PatientId  AppointmentID Gender       Appointment_Day  \\\n",
       "0  2.987250e+13        5642903      F  2016-04-29T18:38:08Z   \n",
       "1  5.589978e+14        5642503      M  2016-04-29T16:08:27Z   \n",
       "2  4.262962e+12        5642549      F  2016-04-29T16:19:04Z   \n",
       "3  8.679512e+11        5642828      F  2016-04-29T17:29:31Z   \n",
       "4  8.841186e+12        5642494      F  2016-04-29T16:07:23Z   \n",
       "\n",
       "            Booking_Day  Age      Neighbourhood  Scholarship  Hipertension  \\\n",
       "0  2016-04-29T00:00:00Z   62    JARDIM DA PENHA            0             1   \n",
       "1  2016-04-29T00:00:00Z   56    JARDIM DA PENHA            0             0   \n",
       "2  2016-04-29T00:00:00Z   62      MATA DA PRAIA            0             0   \n",
       "3  2016-04-29T00:00:00Z    8  PONTAL DE CAMBURI            0             0   \n",
       "4  2016-04-29T00:00:00Z   56    JARDIM DA PENHA            0             1   \n",
       "\n",
       "   Diabetes  Alcoholism  Handcap  SMS_received No-show  \n",
       "0         0           0        0             0      No  \n",
       "1         0           0        0             0      No  \n",
       "2         0           0        0             0      No  \n",
       "3         0           0        0             0      No  \n",
       "4         1           0        0             0      No  "
      ]
     },
     "execution_count": 3,
     "metadata": {},
     "output_type": "execute_result"
    }
   ],
   "source": [
    "# Load your data and print out a few lines. \n",
    "def data(arg):\n",
    "    df0=pd.read_csv(arg)\n",
    "    \n",
    "    #rename some columns for better description\n",
    "    df = df0.rename(columns={'AppointmentDay': 'Booking_Day','ScheduledDay': 'Appointment_Day'})\n",
    "    return df\n",
    "\n",
    "df = data('noshowappointments.csv')\n",
    "\n",
    "df.head()"
   ]
  },
  {
   "cell_type": "code",
   "execution_count": 9,
   "metadata": {},
   "outputs": [
    {
     "data": {
      "text/plain": [
       "(110527, 14)"
      ]
     },
     "execution_count": 9,
     "metadata": {},
     "output_type": "execute_result"
    }
   ],
   "source": [
    "#Determine the entire columns and rows I'm dealing with\n",
    "df.shape"
   ]
  },
  {
   "cell_type": "markdown",
   "metadata": {},
   "source": [
    ">There are 110527 patients and 14 variables attached to each patient"
   ]
  },
  {
   "cell_type": "code",
   "execution_count": 10,
   "metadata": {},
   "outputs": [
    {
     "name": "stdout",
     "output_type": "stream",
     "text": [
      "<class 'pandas.core.frame.DataFrame'>\n",
      "RangeIndex: 110527 entries, 0 to 110526\n",
      "Data columns (total 14 columns):\n",
      "PatientId          110527 non-null float64\n",
      "AppointmentID      110527 non-null int64\n",
      "Gender             110527 non-null object\n",
      "Appointment_Day    110527 non-null object\n",
      "Booking_Day        110527 non-null object\n",
      "Age                110527 non-null int64\n",
      "Neighbourhood      110527 non-null object\n",
      "Scholarship        110527 non-null int64\n",
      "Hipertension       110527 non-null int64\n",
      "Diabetes           110527 non-null int64\n",
      "Alcoholism         110527 non-null int64\n",
      "Handcap            110527 non-null int64\n",
      "SMS_received       110527 non-null int64\n",
      "No-show            110527 non-null object\n",
      "dtypes: float64(1), int64(8), object(5)\n",
      "memory usage: 11.8+ MB\n"
     ]
    }
   ],
   "source": [
    "#Check for the non-null values\n",
    "df.info()"
   ]
  },
  {
   "cell_type": "markdown",
   "metadata": {},
   "source": [
    ">There no empty row "
   ]
  },
  {
   "cell_type": "code",
   "execution_count": 11,
   "metadata": {},
   "outputs": [
    {
     "data": {
      "text/plain": [
       "PatientId          float64\n",
       "AppointmentID        int64\n",
       "Gender              object\n",
       "Appointment_Day     object\n",
       "Booking_Day         object\n",
       "Age                  int64\n",
       "Neighbourhood       object\n",
       "Scholarship          int64\n",
       "Hipertension         int64\n",
       "Diabetes             int64\n",
       "Alcoholism           int64\n",
       "Handcap              int64\n",
       "SMS_received         int64\n",
       "No-show             object\n",
       "dtype: object"
      ]
     },
     "execution_count": 11,
     "metadata": {},
     "output_type": "execute_result"
    }
   ],
   "source": [
    "#Determine the data type\n",
    "df.dtypes"
   ]
  },
  {
   "cell_type": "markdown",
   "metadata": {},
   "source": [
    ">All data types in each column are correct asides the 'Appointment_Day' and 'Booking_Day'."
   ]
  },
  {
   "cell_type": "code",
   "execution_count": 12,
   "metadata": {
    "scrolled": true
   },
   "outputs": [
    {
     "data": {
      "text/plain": [
       "PatientId           62299\n",
       "AppointmentID      110527\n",
       "Gender                  2\n",
       "Appointment_Day    103549\n",
       "Booking_Day            27\n",
       "Age                   104\n",
       "Neighbourhood          81\n",
       "Scholarship             2\n",
       "Hipertension            2\n",
       "Diabetes                2\n",
       "Alcoholism              2\n",
       "Handcap                 5\n",
       "SMS_received            2\n",
       "No-show                 2\n",
       "dtype: int64"
      ]
     },
     "execution_count": 12,
     "metadata": {},
     "output_type": "execute_result"
    }
   ],
   "source": [
    "#Determine the unique values in the entire table\n",
    "df.nunique()"
   ]
  },
  {
   "cell_type": "markdown",
   "metadata": {},
   "source": [
    "1. There are some multiple patient entries\n",
    "2. Only two gender types are used in the data\n",
    "3. There are unique numbers of every appointment booked\n",
    "4. There are 27 different dates allocated to all patients to fall into one.\n",
    "5. 81 total locations of appointment venues"
   ]
  },
  {
   "cell_type": "code",
   "execution_count": null,
   "metadata": {},
   "outputs": [],
   "source": []
  },
  {
   "cell_type": "raw",
   "metadata": {},
   "source": [
    "#Check the entire table to know the summary of the entire data per column\n",
    "df.describe()"
   ]
  },
  {
   "cell_type": "code",
   "execution_count": 14,
   "metadata": {},
   "outputs": [
    {
     "data": {
      "text/plain": [
       "0"
      ]
     },
     "execution_count": 14,
     "metadata": {},
     "output_type": "execute_result"
    }
   ],
   "source": [
    "#Check for duplicate values\n",
    "sum(df.duplicated())"
   ]
  },
  {
   "cell_type": "markdown",
   "metadata": {},
   "source": [
    "There are no duplicated data enty. The 'Appointment_Day' and 'Booking_Day' are to have data type of datetime. Asides the aforementioned, every other thing is clear."
   ]
  },
  {
   "cell_type": "markdown",
   "metadata": {},
   "source": [
    "\n",
    "### Data Cleaning\n",
    "> **Tip**: Make sure that you keep your reader informed on the steps that you are taking in your investigation. Follow every code cell, or every set of related code cells, with a markdown cell to describe to the reader what was found in the preceding cell(s). Try to make it so that the reader can then understand what they will be seeing in the following cell(s).\n",
    " "
   ]
  },
  {
   "cell_type": "code",
   "execution_count": 15,
   "metadata": {},
   "outputs": [
    {
     "name": "stdout",
     "output_type": "stream",
     "text": [
      "<class 'pandas.core.frame.DataFrame'>\n",
      "RangeIndex: 110527 entries, 0 to 110526\n",
      "Data columns (total 14 columns):\n",
      "PatientId          110527 non-null float64\n",
      "AppointmentID      110527 non-null int64\n",
      "Gender             110527 non-null object\n",
      "Appointment_Day    110527 non-null datetime64[ns, UTC]\n",
      "Booking_Day        110527 non-null datetime64[ns, UTC]\n",
      "Age                110527 non-null int64\n",
      "Neighbourhood      110527 non-null object\n",
      "Scholarship        110527 non-null int64\n",
      "Hipertension       110527 non-null int64\n",
      "Diabetes           110527 non-null int64\n",
      "Alcoholism         110527 non-null int64\n",
      "Handcap            110527 non-null int64\n",
      "SMS_received       110527 non-null int64\n",
      "No-show            110527 non-null object\n",
      "dtypes: datetime64[ns, UTC](2), float64(1), int64(8), object(3)\n",
      "memory usage: 11.8+ MB\n"
     ]
    }
   ],
   "source": [
    "#Change the 'Appointment_Day' column to datetime data type\n",
    "df['Appointment_Day'] = pd.to_datetime(df['Appointment_Day'])\n",
    "\n",
    "#Change the 'Booking_Day' column to datetime data type\n",
    "df['Booking_Day'] = pd.to_datetime(df['Booking_Day'])\n",
    "\n",
    "df.info()"
   ]
  },
  {
   "cell_type": "markdown",
   "metadata": {},
   "source": [
    ">All data types are properly cleaned for exploratory analysis"
   ]
  },
  {
   "cell_type": "markdown",
   "metadata": {},
   "source": [
    "<a id='eda'></a>\n",
    "## Exploratory Data Analysis\n"
   ]
  },
  {
   "cell_type": "markdown",
   "metadata": {},
   "source": [
    "### 1d Does gender play a role in patients not showing up?\n"
   ]
  },
  {
   "cell_type": "code",
   "execution_count": 39,
   "metadata": {},
   "outputs": [
    {
     "data": {
      "text/html": [
       "<div>\n",
       "<style scoped>\n",
       "    .dataframe tbody tr th:only-of-type {\n",
       "        vertical-align: middle;\n",
       "    }\n",
       "\n",
       "    .dataframe tbody tr th {\n",
       "        vertical-align: top;\n",
       "    }\n",
       "\n",
       "    .dataframe thead th {\n",
       "        text-align: right;\n",
       "    }\n",
       "</style>\n",
       "<table border=\"1\" class=\"dataframe\">\n",
       "  <thead>\n",
       "    <tr style=\"text-align: right;\">\n",
       "      <th>No-show</th>\n",
       "      <th>No</th>\n",
       "      <th>Yes</th>\n",
       "    </tr>\n",
       "    <tr>\n",
       "      <th>Gender</th>\n",
       "      <th></th>\n",
       "      <th></th>\n",
       "    </tr>\n",
       "  </thead>\n",
       "  <tbody>\n",
       "    <tr>\n",
       "      <th>F</th>\n",
       "      <td>79.69</td>\n",
       "      <td>20.31</td>\n",
       "    </tr>\n",
       "    <tr>\n",
       "      <th>M</th>\n",
       "      <td>80.03</td>\n",
       "      <td>19.97</td>\n",
       "    </tr>\n",
       "  </tbody>\n",
       "</table>\n",
       "</div>"
      ],
      "text/plain": [
       "No-show     No    Yes\n",
       "Gender               \n",
       "F        79.69  20.31\n",
       "M        80.03  19.97"
      ]
     },
     "execution_count": 39,
     "metadata": {},
     "output_type": "execute_result"
    }
   ],
   "source": [
    "#Get the gender distribution of those that show up for appointment from to those that do not.\n",
    "# df_gender=\n",
    "df. groupby( 'Gender' ) ['No-show'].value_counts(normalize=True).unstack().round(4)*(100)"
   ]
  },
  {
   "cell_type": "code",
   "execution_count": 17,
   "metadata": {},
   "outputs": [
    {
     "data": {
      "text/plain": [
       "Text(0.5,0,'Percentage')"
      ]
     },
     "execution_count": 17,
     "metadata": {},
     "output_type": "execute_result"
    },
    {
     "data": {
      "image/png": "[encoded data removed]",
      "text/plain": [
       "<matplotlib.figure.Figure at 0x7fe51306bdd8>"
      ]
     },
     "metadata": {
      "needs_background": "light"
     },
     "output_type": "display_data"
    }
   ],
   "source": [
    "#Plot a bar chart of gender by percentage of patients that show up/not show up for their appointment\n",
    "df_gender.plot(kind='barh', figsize=(8,8))\n",
    "\n",
    "#Give the chart a title\n",
    "plt.title ( \"Gender by percentage of patients that show up for appointment\");\n",
    "plt.xlabel('Percentage'.title(), fontsize = 10)"
   ]
  },
  {
   "cell_type": "markdown",
   "metadata": {},
   "source": [
    ">Both gender almost have equally missed their scheduled appointment. Gender is not a reliable factor predict patients that do not show up for their appointments."
   ]
  },
  {
   "cell_type": "markdown",
   "metadata": {},
   "source": [
    "### 2d What factors are important to note in order to predict if a patient will show up for their scheduled appointment? "
   ]
  },
  {
   "cell_type": "code",
   "execution_count": 18,
   "metadata": {},
   "outputs": [
    {
     "data": {
      "text/plain": [
       "array([[<matplotlib.axes._subplots.AxesSubplot object at 0x7fe512a82438>,\n",
       "        <matplotlib.axes._subplots.AxesSubplot object at 0x7fe5127c4e48>,\n",
       "        <matplotlib.axes._subplots.AxesSubplot object at 0x7fe512779d68>],\n",
       "       [<matplotlib.axes._subplots.AxesSubplot object at 0x7fe512736eb8>,\n",
       "        <matplotlib.axes._subplots.AxesSubplot object at 0x7fe5126eeeb8>,\n",
       "        <matplotlib.axes._subplots.AxesSubplot object at 0x7fe5126eeef0>],\n",
       "       [<matplotlib.axes._subplots.AxesSubplot object at 0x7fe5126d9b38>,\n",
       "        <matplotlib.axes._subplots.AxesSubplot object at 0x7fe512694b38>,\n",
       "        <matplotlib.axes._subplots.AxesSubplot object at 0x7fe512649ba8>]],\n",
       "      dtype=object)"
      ]
     },
     "execution_count": 18,
     "metadata": {},
     "output_type": "execute_result"
    },
    {
     "data": {
      "image/png": "[encoded data removed]",
      "text/plain": [
       "<matplotlib.figure.Figure at 0x7fe51306be48>"
      ]
     },
     "metadata": {
      "needs_background": "light"
     },
     "output_type": "display_data"
    }
   ],
   "source": [
    "#Use histogram to see a chart-summary of the variables in the data\n",
    "\n",
    "df.hist(figsize=(8,8))"
   ]
  },
  {
   "cell_type": "markdown",
   "metadata": {},
   "source": [
    "### How many people did not show up?"
   ]
  },
  {
   "cell_type": "code",
   "execution_count": 19,
   "metadata": {},
   "outputs": [
    {
     "data": {
      "text/plain": [
       "22319"
      ]
     },
     "execution_count": 19,
     "metadata": {},
     "output_type": "execute_result"
    }
   ],
   "source": [
    "df.head()\n",
    "\n",
    "#check for the total number of people that did not show up for their appointment\n",
    "sum(df['No-show'] == 'Yes')\n"
   ]
  },
  {
   "cell_type": "markdown",
   "metadata": {},
   "source": [
    ">Out of about 110 thousand patient, 22,319 of the do not show up for appointment"
   ]
  },
  {
   "cell_type": "markdown",
   "metadata": {},
   "source": [
    "### What is the age distribution that schedules an appointment?"
   ]
  },
  {
   "cell_type": "code",
   "execution_count": 20,
   "metadata": {
    "scrolled": true
   },
   "outputs": [
    {
     "data": {
      "text/plain": [
       "<matplotlib.axes._subplots.AxesSubplot at 0x7fe5125c31d0>"
      ]
     },
     "execution_count": 20,
     "metadata": {},
     "output_type": "execute_result"
    },
    {
     "data": {
      "image/png": "[encoded data removed]",
      "text/plain": [
       "<matplotlib.figure.Figure at 0x7fe512b30e48>"
      ]
     },
     "metadata": {
      "needs_background": "light"
     },
     "output_type": "display_data"
    }
   ],
   "source": [
    "#The age bracket of people that schedule appointment\n",
    "df['Age'].hist()"
   ]
  },
  {
   "cell_type": "markdown",
   "metadata": {},
   "source": [
    ">Majority of those booked for appointment within age 0 to 60. Children less than 10 years of age are the ones most scheduled"
   ]
  },
  {
   "cell_type": "markdown",
   "metadata": {},
   "source": [
    "## Time difference of the appointment day from the day patients scheduled appointment"
   ]
  },
  {
   "cell_type": "code",
   "execution_count": 40,
   "metadata": {},
   "outputs": [
    {
     "data": {
      "text/plain": [
       "0           0 days 18:38:08\n",
       "1           0 days 16:08:27\n",
       "2           0 days 16:19:04\n",
       "3           0 days 17:29:31\n",
       "4           0 days 16:07:23\n",
       "                ...        \n",
       "110522   -35 days +09:15:35\n",
       "110523   -35 days +07:27:33\n",
       "110524   -41 days +16:03:52\n",
       "110525   -41 days +15:09:23\n",
       "110526   -41 days +13:30:56\n",
       "Length: 110527, dtype: timedelta64[ns]"
      ]
     },
     "execution_count": 40,
     "metadata": {},
     "output_type": "execute_result"
    }
   ],
   "source": [
    "#create an extra column to give the time difference of ScheduledDay and AppointmentDay\n",
    "df['Time_diff'] = df.apply(lambda x: x['Appointment_Day'] - x['Booking_Day'], axis=1)\n"
   ]
  },
  {
   "cell_type": "code",
   "execution_count": 22,
   "metadata": {},
   "outputs": [],
   "source": [
    "#Ensure the datatype in the new column is the correct type\n",
    "#df.info('Time_diff')"
   ]
  },
  {
   "cell_type": "code",
   "execution_count": 23,
   "metadata": {},
   "outputs": [
    {
     "data": {
      "text/plain": [
       "No     88208\n",
       "Yes    22319\n",
       "Name: No-show, dtype: int64"
      ]
     },
     "execution_count": 23,
     "metadata": {},
     "output_type": "execute_result"
    }
   ],
   "source": [
    "#get table of Time_diff and No-show columns\n",
    "df['No-show'].value_counts()"
   ]
  },
  {
   "cell_type": "code",
   "execution_count": 24,
   "metadata": {},
   "outputs": [
    {
     "data": {
      "text/html": [
       "<div>\n",
       "<style scoped>\n",
       "    .dataframe tbody tr th:only-of-type {\n",
       "        vertical-align: middle;\n",
       "    }\n",
       "\n",
       "    .dataframe tbody tr th {\n",
       "        vertical-align: top;\n",
       "    }\n",
       "\n",
       "    .dataframe thead th {\n",
       "        text-align: right;\n",
       "    }\n",
       "</style>\n",
       "<table border=\"1\" class=\"dataframe\">\n",
       "  <thead>\n",
       "    <tr style=\"text-align: right;\">\n",
       "      <th></th>\n",
       "      <th>PatientId</th>\n",
       "      <th>AppointmentID</th>\n",
       "      <th>Age</th>\n",
       "      <th>Scholarship</th>\n",
       "      <th>Hipertension</th>\n",
       "      <th>Diabetes</th>\n",
       "      <th>Alcoholism</th>\n",
       "      <th>Handcap</th>\n",
       "      <th>SMS_received</th>\n",
       "      <th>Time_diff</th>\n",
       "    </tr>\n",
       "  </thead>\n",
       "  <tbody>\n",
       "    <tr>\n",
       "      <th>count</th>\n",
       "      <td>2.231900e+04</td>\n",
       "      <td>2.231900e+04</td>\n",
       "      <td>22319.000000</td>\n",
       "      <td>22319.000000</td>\n",
       "      <td>22319.000000</td>\n",
       "      <td>22319.000000</td>\n",
       "      <td>22319.000000</td>\n",
       "      <td>22319.000000</td>\n",
       "      <td>22319.000000</td>\n",
       "      <td>22319</td>\n",
       "    </tr>\n",
       "    <tr>\n",
       "      <th>mean</th>\n",
       "      <td>1.467523e+14</td>\n",
       "      <td>5.652259e+06</td>\n",
       "      <td>34.317667</td>\n",
       "      <td>0.115507</td>\n",
       "      <td>0.169004</td>\n",
       "      <td>0.064071</td>\n",
       "      <td>0.030333</td>\n",
       "      <td>0.020297</td>\n",
       "      <td>0.438371</td>\n",
       "      <td>-16 days +15:42:25.001120</td>\n",
       "    </tr>\n",
       "    <tr>\n",
       "      <th>std</th>\n",
       "      <td>2.549905e+14</td>\n",
       "      <td>7.429686e+04</td>\n",
       "      <td>21.965941</td>\n",
       "      <td>0.319640</td>\n",
       "      <td>0.374764</td>\n",
       "      <td>0.244885</td>\n",
       "      <td>0.171505</td>\n",
       "      <td>0.156670</td>\n",
       "      <td>0.496198</td>\n",
       "      <td>16 days 14:24:19.715831</td>\n",
       "    </tr>\n",
       "    <tr>\n",
       "      <th>min</th>\n",
       "      <td>5.628261e+06</td>\n",
       "      <td>5.122866e+06</td>\n",
       "      <td>0.000000</td>\n",
       "      <td>0.000000</td>\n",
       "      <td>0.000000</td>\n",
       "      <td>0.000000</td>\n",
       "      <td>0.000000</td>\n",
       "      <td>0.000000</td>\n",
       "      <td>0.000000</td>\n",
       "      <td>-179 days +10:40:59</td>\n",
       "    </tr>\n",
       "    <tr>\n",
       "      <th>25%</th>\n",
       "      <td>4.176779e+12</td>\n",
       "      <td>5.614192e+06</td>\n",
       "      <td>16.000000</td>\n",
       "      <td>0.000000</td>\n",
       "      <td>0.000000</td>\n",
       "      <td>0.000000</td>\n",
       "      <td>0.000000</td>\n",
       "      <td>0.000000</td>\n",
       "      <td>0.000000</td>\n",
       "      <td>-23 days +08:15:27</td>\n",
       "    </tr>\n",
       "    <tr>\n",
       "      <th>50%</th>\n",
       "      <td>3.156794e+13</td>\n",
       "      <td>5.657916e+06</td>\n",
       "      <td>33.000000</td>\n",
       "      <td>0.000000</td>\n",
       "      <td>0.000000</td>\n",
       "      <td>0.000000</td>\n",
       "      <td>0.000000</td>\n",
       "      <td>0.000000</td>\n",
       "      <td>0.000000</td>\n",
       "      <td>-11 days +16:17:29</td>\n",
       "    </tr>\n",
       "    <tr>\n",
       "      <th>75%</th>\n",
       "      <td>9.454270e+13</td>\n",
       "      <td>5.703175e+06</td>\n",
       "      <td>51.000000</td>\n",
       "      <td>0.000000</td>\n",
       "      <td>0.000000</td>\n",
       "      <td>0.000000</td>\n",
       "      <td>0.000000</td>\n",
       "      <td>0.000000</td>\n",
       "      <td>1.000000</td>\n",
       "      <td>-4 days +13:12:35</td>\n",
       "    </tr>\n",
       "    <tr>\n",
       "      <th>max</th>\n",
       "      <td>9.996585e+14</td>\n",
       "      <td>5.789986e+06</td>\n",
       "      <td>115.000000</td>\n",
       "      <td>1.000000</td>\n",
       "      <td>1.000000</td>\n",
       "      <td>1.000000</td>\n",
       "      <td>1.000000</td>\n",
       "      <td>4.000000</td>\n",
       "      <td>1.000000</td>\n",
       "      <td>6 days 13:49:20</td>\n",
       "    </tr>\n",
       "  </tbody>\n",
       "</table>\n",
       "</div>"
      ],
      "text/plain": [
       "          PatientId  AppointmentID           Age   Scholarship  Hipertension  \\\n",
       "count  2.231900e+04   2.231900e+04  22319.000000  22319.000000  22319.000000   \n",
       "mean   1.467523e+14   5.652259e+06     34.317667      0.115507      0.169004   \n",
       "std    2.549905e+14   7.429686e+04     21.965941      0.319640      0.374764   \n",
       "min    5.628261e+06   5.122866e+06      0.000000      0.000000      0.000000   \n",
       "25%    4.176779e+12   5.614192e+06     16.000000      0.000000      0.000000   \n",
       "50%    3.156794e+13   5.657916e+06     33.000000      0.000000      0.000000   \n",
       "75%    9.454270e+13   5.703175e+06     51.000000      0.000000      0.000000   \n",
       "max    9.996585e+14   5.789986e+06    115.000000      1.000000      1.000000   \n",
       "\n",
       "           Diabetes    Alcoholism       Handcap  SMS_received  \\\n",
       "count  22319.000000  22319.000000  22319.000000  22319.000000   \n",
       "mean       0.064071      0.030333      0.020297      0.438371   \n",
       "std        0.244885      0.171505      0.156670      0.496198   \n",
       "min        0.000000      0.000000      0.000000      0.000000   \n",
       "25%        0.000000      0.000000      0.000000      0.000000   \n",
       "50%        0.000000      0.000000      0.000000      0.000000   \n",
       "75%        0.000000      0.000000      0.000000      1.000000   \n",
       "max        1.000000      1.000000      4.000000      1.000000   \n",
       "\n",
       "                       Time_diff  \n",
       "count                      22319  \n",
       "mean   -16 days +15:42:25.001120  \n",
       "std      16 days 14:24:19.715831  \n",
       "min          -179 days +10:40:59  \n",
       "25%           -23 days +08:15:27  \n",
       "50%           -11 days +16:17:29  \n",
       "75%            -4 days +13:12:35  \n",
       "max              6 days 13:49:20  "
      ]
     },
     "execution_count": 24,
     "metadata": {},
     "output_type": "execute_result"
    }
   ],
   "source": [
    "#get a brief summary for those that didn't show up\n",
    "a=df[df['No-show'] == 'Yes']\n",
    "a.describe()"
   ]
  },
  {
   "cell_type": "markdown",
   "metadata": {},
   "source": [
    "> The minimum time difference is up to -179 days which shows that the appointment day that was issued to such a patient was way behind time. This shows an reasonable reason for such a patient not to show up as it was as good as the patient had no scheduled appointment."
   ]
  },
  {
   "cell_type": "code",
   "execution_count": 25,
   "metadata": {
    "scrolled": true
   },
   "outputs": [
    {
     "data": {
      "text/html": [
       "<div>\n",
       "<style scoped>\n",
       "    .dataframe tbody tr th:only-of-type {\n",
       "        vertical-align: middle;\n",
       "    }\n",
       "\n",
       "    .dataframe tbody tr th {\n",
       "        vertical-align: top;\n",
       "    }\n",
       "\n",
       "    .dataframe thead th {\n",
       "        text-align: right;\n",
       "    }\n",
       "</style>\n",
       "<table border=\"1\" class=\"dataframe\">\n",
       "  <thead>\n",
       "    <tr style=\"text-align: right;\">\n",
       "      <th></th>\n",
       "      <th>PatientId</th>\n",
       "      <th>AppointmentID</th>\n",
       "      <th>Age</th>\n",
       "      <th>Scholarship</th>\n",
       "      <th>Hipertension</th>\n",
       "      <th>Diabetes</th>\n",
       "      <th>Alcoholism</th>\n",
       "      <th>Handcap</th>\n",
       "      <th>SMS_received</th>\n",
       "      <th>Time_diff</th>\n",
       "    </tr>\n",
       "  </thead>\n",
       "  <tbody>\n",
       "    <tr>\n",
       "      <th>count</th>\n",
       "      <td>8.820800e+04</td>\n",
       "      <td>8.820800e+04</td>\n",
       "      <td>88208.000000</td>\n",
       "      <td>88208.000000</td>\n",
       "      <td>88208.000000</td>\n",
       "      <td>88208.000000</td>\n",
       "      <td>88208.000000</td>\n",
       "      <td>88208.000000</td>\n",
       "      <td>88208.000000</td>\n",
       "      <td>88208</td>\n",
       "    </tr>\n",
       "    <tr>\n",
       "      <th>mean</th>\n",
       "      <td>1.476845e+14</td>\n",
       "      <td>5.681137e+06</td>\n",
       "      <td>37.790064</td>\n",
       "      <td>0.093903</td>\n",
       "      <td>0.204392</td>\n",
       "      <td>0.073837</td>\n",
       "      <td>0.030417</td>\n",
       "      <td>0.022742</td>\n",
       "      <td>0.291334</td>\n",
       "      <td>-9 days +17:03:13.775405</td>\n",
       "    </tr>\n",
       "    <tr>\n",
       "      <th>std</th>\n",
       "      <td>2.563747e+14</td>\n",
       "      <td>6.931225e+04</td>\n",
       "      <td>23.338878</td>\n",
       "      <td>0.291695</td>\n",
       "      <td>0.403259</td>\n",
       "      <td>0.261507</td>\n",
       "      <td>0.171732</td>\n",
       "      <td>0.162750</td>\n",
       "      <td>0.454380</td>\n",
       "      <td>14 days 12:57:11.876227</td>\n",
       "    </tr>\n",
       "    <tr>\n",
       "      <th>min</th>\n",
       "      <td>3.921784e+04</td>\n",
       "      <td>5.030230e+06</td>\n",
       "      <td>-1.000000</td>\n",
       "      <td>0.000000</td>\n",
       "      <td>0.000000</td>\n",
       "      <td>0.000000</td>\n",
       "      <td>0.000000</td>\n",
       "      <td>0.000000</td>\n",
       "      <td>0.000000</td>\n",
       "      <td>-179 days +10:42:42</td>\n",
       "    </tr>\n",
       "    <tr>\n",
       "      <th>25%</th>\n",
       "      <td>4.168386e+12</td>\n",
       "      <td>5.646218e+06</td>\n",
       "      <td>18.000000</td>\n",
       "      <td>0.000000</td>\n",
       "      <td>0.000000</td>\n",
       "      <td>0.000000</td>\n",
       "      <td>0.000000</td>\n",
       "      <td>0.000000</td>\n",
       "      <td>0.000000</td>\n",
       "      <td>-12 days +08:34:05</td>\n",
       "    </tr>\n",
       "    <tr>\n",
       "      <th>50%</th>\n",
       "      <td>3.176184e+13</td>\n",
       "      <td>5.685684e+06</td>\n",
       "      <td>38.000000</td>\n",
       "      <td>0.000000</td>\n",
       "      <td>0.000000</td>\n",
       "      <td>0.000000</td>\n",
       "      <td>0.000000</td>\n",
       "      <td>0.000000</td>\n",
       "      <td>0.000000</td>\n",
       "      <td>-2 days +09:03:16</td>\n",
       "    </tr>\n",
       "    <tr>\n",
       "      <th>75%</th>\n",
       "      <td>9.433715e+13</td>\n",
       "      <td>5.731078e+06</td>\n",
       "      <td>56.000000</td>\n",
       "      <td>0.000000</td>\n",
       "      <td>0.000000</td>\n",
       "      <td>0.000000</td>\n",
       "      <td>0.000000</td>\n",
       "      <td>0.000000</td>\n",
       "      <td>1.000000</td>\n",
       "      <td>0 days 09:00:59.750000</td>\n",
       "    </tr>\n",
       "    <tr>\n",
       "      <th>max</th>\n",
       "      <td>9.999816e+14</td>\n",
       "      <td>5.790484e+06</td>\n",
       "      <td>115.000000</td>\n",
       "      <td>1.000000</td>\n",
       "      <td>1.000000</td>\n",
       "      <td>1.000000</td>\n",
       "      <td>1.000000</td>\n",
       "      <td>4.000000</td>\n",
       "      <td>1.000000</td>\n",
       "      <td>0 days 20:44:54</td>\n",
       "    </tr>\n",
       "  </tbody>\n",
       "</table>\n",
       "</div>"
      ],
      "text/plain": [
       "          PatientId  AppointmentID           Age   Scholarship  Hipertension  \\\n",
       "count  8.820800e+04   8.820800e+04  88208.000000  88208.000000  88208.000000   \n",
       "mean   1.476845e+14   5.681137e+06     37.790064      0.093903      0.204392   \n",
       "std    2.563747e+14   6.931225e+04     23.338878      0.291695      0.403259   \n",
       "min    3.921784e+04   5.030230e+06     -1.000000      0.000000      0.000000   \n",
       "25%    4.168386e+12   5.646218e+06     18.000000      0.000000      0.000000   \n",
       "50%    3.176184e+13   5.685684e+06     38.000000      0.000000      0.000000   \n",
       "75%    9.433715e+13   5.731078e+06     56.000000      0.000000      0.000000   \n",
       "max    9.999816e+14   5.790484e+06    115.000000      1.000000      1.000000   \n",
       "\n",
       "           Diabetes    Alcoholism       Handcap  SMS_received  \\\n",
       "count  88208.000000  88208.000000  88208.000000  88208.000000   \n",
       "mean       0.073837      0.030417      0.022742      0.291334   \n",
       "std        0.261507      0.171732      0.162750      0.454380   \n",
       "min        0.000000      0.000000      0.000000      0.000000   \n",
       "25%        0.000000      0.000000      0.000000      0.000000   \n",
       "50%        0.000000      0.000000      0.000000      0.000000   \n",
       "75%        0.000000      0.000000      0.000000      1.000000   \n",
       "max        1.000000      1.000000      4.000000      1.000000   \n",
       "\n",
       "                      Time_diff  \n",
       "count                     88208  \n",
       "mean   -9 days +17:03:13.775405  \n",
       "std     14 days 12:57:11.876227  \n",
       "min         -179 days +10:42:42  \n",
       "25%          -12 days +08:34:05  \n",
       "50%           -2 days +09:03:16  \n",
       "75%      0 days 09:00:59.750000  \n",
       "max             0 days 20:44:54  "
      ]
     },
     "execution_count": 25,
     "metadata": {},
     "output_type": "execute_result"
    }
   ],
   "source": [
    "#get a brief summary of data for those that showed up\n",
    "b=df[df['No-show'] == 'No']\n",
    "b.describe()"
   ]
  },
  {
   "cell_type": "markdown",
   "metadata": {},
   "source": [
    "> It can be observed above that there are negative time difference in schedules. Let's dig further to see how much of the data is affected by negative time differences"
   ]
  },
  {
   "cell_type": "code",
   "execution_count": 26,
   "metadata": {},
   "outputs": [
    {
     "name": "stdout",
     "output_type": "stream",
     "text": [
      "No     51437\n",
      "Yes    20522\n",
      "Name: No-show, dtype: int64\n"
     ]
    }
   ],
   "source": [
    "#show count of those with negative schedules\n",
    "df_negtime = df[df['Time_diff'] < '0 days']\n",
    "print(df_negtime['No-show'].value_counts())"
   ]
  },
  {
   "cell_type": "code",
   "execution_count": 27,
   "metadata": {},
   "outputs": [
    {
     "data": {
      "text/plain": [
       "<matplotlib.axes._subplots.AxesSubplot at 0x7fe5127a8978>"
      ]
     },
     "execution_count": 27,
     "metadata": {},
     "output_type": "execute_result"
    },
    {
     "data": {
      "image/png": "[encoded data removed]",
      "text/plain": [
       "<matplotlib.figure.Figure at 0x7fe51275af98>"
      ]
     },
     "metadata": {},
     "output_type": "display_data"
    }
   ],
   "source": [
    "#plot a pie chart for show/no-show data negative time difference\n",
    "df_negtime['No-show'].value_counts().plot(kind = 'pie', figsize = (8,8))"
   ]
  },
  {
   "cell_type": "code",
   "execution_count": 41,
   "metadata": {},
   "outputs": [
    {
     "name": "stdout",
     "output_type": "stream",
     "text": [
      "No     36771\n",
      "Yes     1797\n",
      "Name: No-show, dtype: int64\n"
     ]
    }
   ],
   "source": [
    "#show count of those with positive schedules\n",
    "df_postime = df[df['Time_diff'] > '0 days']\n",
    "print(df_postime['No-show'].value_counts())"
   ]
  },
  {
   "cell_type": "code",
   "execution_count": 29,
   "metadata": {},
   "outputs": [
    {
     "data": {
      "text/plain": [
       "<matplotlib.axes._subplots.AxesSubplot at 0x7fe5096eba20>"
      ]
     },
     "execution_count": 29,
     "metadata": {},
     "output_type": "execute_result"
    },
    {
     "data": {
      "image/png": "[encoded data removed]",
      "text/plain": [
       "<matplotlib.figure.Figure at 0x7fe512ae92e8>"
      ]
     },
     "metadata": {},
     "output_type": "display_data"
    }
   ],
   "source": [
    "#let's work with the positive time difference\n",
    "df_postime['No-show'].value_counts().plot(kind = 'pie', figsize = (8,8))"
   ]
  },
  {
   "cell_type": "markdown",
   "metadata": {},
   "source": [
    ">Surprisingly! A greater number of patients with appointment dates behind the present date of scheduling an appointment were present for their appointment, than those that were had a positive time difference. Same goes for those that missed their appointment. This shows the table has unrealistics details in the scheduled date and appointment date, as it is impossible for a patinet to have already showed up for appointment time before being scheduled of appointment."
   ]
  },
  {
   "cell_type": "markdown",
   "metadata": {},
   "source": [
    "### The age distribution of those that do not show"
   ]
  },
  {
   "cell_type": "code",
   "execution_count": 30,
   "metadata": {},
   "outputs": [
    {
     "data": {
      "text/plain": [
       "<matplotlib.axes._subplots.AxesSubplot at 0x7fe50556d0b8>"
      ]
     },
     "execution_count": 30,
     "metadata": {},
     "output_type": "execute_result"
    },
    {
     "data": {
      "image/png": "[encoded data removed]",
      "text/plain": [
       "<matplotlib.figure.Figure at 0x7fe50979d400>"
      ]
     },
     "metadata": {
      "needs_background": "light"
     },
     "output_type": "display_data"
    }
   ],
   "source": [
    "#Get the table of patient that did not show up\n",
    "df_noshow = df[df['No-show'] == 'Yes']\n",
    "\n",
    "#Get the table with column of just age and No-show \n",
    "df_age_noshow = df_noshow.iloc[:, np.r_[5:6, 13:14]]\n",
    "df_age_noshow.plot(kind='box')"
   ]
  },
  {
   "cell_type": "markdown",
   "metadata": {},
   "source": [
    ">The bulk of those that were absent for their appointment is more on those from age 30 and below"
   ]
  },
  {
   "cell_type": "code",
   "execution_count": 31,
   "metadata": {},
   "outputs": [
    {
     "data": {
      "text/plain": [
       "array([[<matplotlib.axes._subplots.AxesSubplot object at 0x7fe5126f9ef0>]],\n",
       "      dtype=object)"
      ]
     },
     "execution_count": 31,
     "metadata": {},
     "output_type": "execute_result"
    },
    {
     "data": {
      "image/png": "[encoded data removed]",
      "text/plain": [
       "<matplotlib.figure.Figure at 0x7fe505c618d0>"
      ]
     },
     "metadata": {
      "needs_background": "light"
     },
     "output_type": "display_data"
    }
   ],
   "source": [
    "#Let's get the data of just those that did not show up for for appointment and the age bracket in such category\n",
    "df_age_noshow.hist()"
   ]
  },
  {
   "cell_type": "markdown",
   "metadata": {},
   "source": [
    ">Most people from age 0 to 30 missed their appointment"
   ]
  },
  {
   "cell_type": "code",
   "execution_count": 32,
   "metadata": {},
   "outputs": [
    {
     "data": {
      "text/html": [
       "<div>\n",
       "<style scoped>\n",
       "    .dataframe tbody tr th:only-of-type {\n",
       "        vertical-align: middle;\n",
       "    }\n",
       "\n",
       "    .dataframe tbody tr th {\n",
       "        vertical-align: top;\n",
       "    }\n",
       "\n",
       "    .dataframe thead th {\n",
       "        text-align: right;\n",
       "    }\n",
       "</style>\n",
       "<table border=\"1\" class=\"dataframe\">\n",
       "  <thead>\n",
       "    <tr style=\"text-align: right;\">\n",
       "      <th></th>\n",
       "      <th>PatientId</th>\n",
       "      <th>AppointmentID</th>\n",
       "      <th>Age</th>\n",
       "      <th>Scholarship</th>\n",
       "      <th>Hipertension</th>\n",
       "      <th>Diabetes</th>\n",
       "      <th>Alcoholism</th>\n",
       "      <th>Handcap</th>\n",
       "      <th>SMS_received</th>\n",
       "    </tr>\n",
       "    <tr>\n",
       "      <th>No-show</th>\n",
       "      <th></th>\n",
       "      <th></th>\n",
       "      <th></th>\n",
       "      <th></th>\n",
       "      <th></th>\n",
       "      <th></th>\n",
       "      <th></th>\n",
       "      <th></th>\n",
       "      <th></th>\n",
       "    </tr>\n",
       "  </thead>\n",
       "  <tbody>\n",
       "    <tr>\n",
       "      <th>No</th>\n",
       "      <td>1.476845e+14</td>\n",
       "      <td>5.681137e+06</td>\n",
       "      <td>37.790064</td>\n",
       "      <td>0.093903</td>\n",
       "      <td>0.204392</td>\n",
       "      <td>0.073837</td>\n",
       "      <td>0.030417</td>\n",
       "      <td>0.022742</td>\n",
       "      <td>0.291334</td>\n",
       "    </tr>\n",
       "    <tr>\n",
       "      <th>Yes</th>\n",
       "      <td>1.467523e+14</td>\n",
       "      <td>5.652259e+06</td>\n",
       "      <td>34.317667</td>\n",
       "      <td>0.115507</td>\n",
       "      <td>0.169004</td>\n",
       "      <td>0.064071</td>\n",
       "      <td>0.030333</td>\n",
       "      <td>0.020297</td>\n",
       "      <td>0.438371</td>\n",
       "    </tr>\n",
       "  </tbody>\n",
       "</table>\n",
       "</div>"
      ],
      "text/plain": [
       "            PatientId  AppointmentID        Age  Scholarship  Hipertension  \\\n",
       "No-show                                                                      \n",
       "No       1.476845e+14   5.681137e+06  37.790064     0.093903      0.204392   \n",
       "Yes      1.467523e+14   5.652259e+06  34.317667     0.115507      0.169004   \n",
       "\n",
       "         Diabetes  Alcoholism   Handcap  SMS_received  \n",
       "No-show                                                \n",
       "No       0.073837    0.030417  0.022742      0.291334  \n",
       "Yes      0.064071    0.030333  0.020297      0.438371  "
      ]
     },
     "execution_count": 32,
     "metadata": {},
     "output_type": "execute_result"
    }
   ],
   "source": [
    "#Average distribution of those that show-up for appointment from those that do not.\n",
    "df.groupby('No-show').mean()"
   ]
  },
  {
   "cell_type": "markdown",
   "metadata": {},
   "source": [
    ">The average age of people that did not show up for their appointment are about age 34."
   ]
  },
  {
   "cell_type": "markdown",
   "metadata": {},
   "source": [
    "### How effective is the reminder factor via SMS?"
   ]
  },
  {
   "cell_type": "code",
   "execution_count": 33,
   "metadata": {},
   "outputs": [
    {
     "data": {
      "text/plain": [
       "(35482, 15)"
      ]
     },
     "execution_count": 33,
     "metadata": {},
     "output_type": "execute_result"
    }
   ],
   "source": [
    "# FOLLOW-UP\n",
    "#df.head()\n",
    "df_sms = df[df['SMS_received'] == 1]\n",
    "df_sms.shape"
   ]
  },
  {
   "cell_type": "markdown",
   "metadata": {},
   "source": [
    "> Of all the the 110,527 patients, 35,482 received SMS concerning their scheduled appointment"
   ]
  },
  {
   "cell_type": "code",
   "execution_count": 34,
   "metadata": {
    "scrolled": true
   },
   "outputs": [],
   "source": [
    "df_sms1= df_sms.groupby('No-show').describe()"
   ]
  },
  {
   "cell_type": "code",
   "execution_count": 35,
   "metadata": {},
   "outputs": [
    {
     "data": {
      "text/html": [
       "<div>\n",
       "<style scoped>\n",
       "    .dataframe tbody tr th:only-of-type {\n",
       "        vertical-align: middle;\n",
       "    }\n",
       "\n",
       "    .dataframe tbody tr th {\n",
       "        vertical-align: top;\n",
       "    }\n",
       "\n",
       "    .dataframe thead tr th {\n",
       "        text-align: left;\n",
       "    }\n",
       "\n",
       "    .dataframe thead tr:last-of-type th {\n",
       "        text-align: right;\n",
       "    }\n",
       "</style>\n",
       "<table border=\"1\" class=\"dataframe\">\n",
       "  <thead>\n",
       "    <tr>\n",
       "      <th></th>\n",
       "      <th>PatientId</th>\n",
       "    </tr>\n",
       "    <tr>\n",
       "      <th></th>\n",
       "      <th>count</th>\n",
       "    </tr>\n",
       "    <tr>\n",
       "      <th>No-show</th>\n",
       "      <th></th>\n",
       "    </tr>\n",
       "  </thead>\n",
       "  <tbody>\n",
       "    <tr>\n",
       "      <th>No</th>\n",
       "      <td>25698.0</td>\n",
       "    </tr>\n",
       "    <tr>\n",
       "      <th>Yes</th>\n",
       "      <td>9784.0</td>\n",
       "    </tr>\n",
       "  </tbody>\n",
       "</table>\n",
       "</div>"
      ],
      "text/plain": [
       "        PatientId\n",
       "            count\n",
       "No-show          \n",
       "No        25698.0\n",
       "Yes        9784.0"
      ]
     },
     "execution_count": 35,
     "metadata": {},
     "output_type": "execute_result"
    }
   ],
   "source": [
    "df_sms1.iloc[:,:1]"
   ]
  },
  {
   "cell_type": "markdown",
   "metadata": {},
   "source": [
    ">25,698 patients showed up for the scheduled appointment. That means approximately 62% of those that received SMS showed up for appointment."
   ]
  },
  {
   "cell_type": "markdown",
   "metadata": {},
   "source": [
    "## Does the health condition/qualification affect their presence on scheduled appointment time?"
   ]
  },
  {
   "cell_type": "markdown",
   "metadata": {},
   "source": [
    "For those that show-up for appointment"
   ]
  },
  {
   "cell_type": "code",
   "execution_count": 36,
   "metadata": {
    "scrolled": true
   },
   "outputs": [
    {
     "data": {
      "image/png": "[encoded data removed]",
      "text/plain": [
       "<matplotlib.figure.Figure at 0x7fe50979d438>"
      ]
     },
     "metadata": {
      "needs_background": "light"
     },
     "output_type": "display_data"
    }
   ],
   "source": [
    "#Get the table for those that show up\n",
    "df_show= df[df['No-show'] == 'No']\n",
    "\n",
    "#Filter only columns that speak about health conditions\n",
    "df_show.iloc[:, 7:13].sum().plot(kind='barh', figsize=(8,8))\n",
    "\n",
    "plt.title ( \"Attributes of patients that showed up for appointment\");"
   ]
  },
  {
   "cell_type": "markdown",
   "metadata": {},
   "source": [
    "For those that do not show-up for appointment"
   ]
  },
  {
   "cell_type": "code",
   "execution_count": 37,
   "metadata": {},
   "outputs": [
    {
     "data": {
      "image/png": "[encoded data removed]",
      "text/plain": [
       "<matplotlib.figure.Figure at 0x7fe505c59ef0>"
      ]
     },
     "metadata": {
      "needs_background": "light"
     },
     "output_type": "display_data"
    }
   ],
   "source": [
    "#Get the table for those that did not show up\n",
    "df_noshow= df[df['No-show'] == 'Yes']\n",
    "\n",
    "#Filter only columns that speak about health conditions\n",
    "df_noshow.iloc[:, 7:13].sum().plot(kind='barh', figsize=(8,8))\n",
    "\n",
    "plt.title ( \"Attributes of patients that did not show up for appointment\");"
   ]
  },
  {
   "cell_type": "markdown",
   "metadata": {},
   "source": [
    "<a id='conclusions'></a>\n",
    "## Conclusions\n",
    "\n",
    "> From the above analysis, an important factor for us to note in order to predict if a patient will show up for their scheduled appointment is the follow up SMS. A greater percentage of patients who showed up for their appointment received SMS notification as reminder. \n",
    "Also, the age brackets of infants to adulthood (from age 0 to about age 30), tend to miss their scheduled appointments more than the older ones. Being handicapped, diabetic, alcohol addict plays little role in helping solve the factor behind those missing their appointments. In fact, the last two set of bar chart show to boost in the amount of patients showing up for their appointments. \n",
    "\n",
    "## Limitation\n",
    "> The appointment date is backdates from the date of booking. This defiles the law of nature in relation to time. \n",
    ">There are also not enough information to put into better perspective the reason for the patients missing their appointments.\n"
   ]
  },
  {
   "cell_type": "code",
   "execution_count": 38,
   "metadata": {},
   "outputs": [
    {
     "data": {
      "text/plain": [
       "0"
      ]
     },
     "execution_count": 38,
     "metadata": {},
     "output_type": "execute_result"
    }
   ],
   "source": [
    "from subprocess import call\n",
    "call(['python', '-m', 'nbconvert', 'Investigate_a_Dataset.ipynb'])"
   ]
  },
  {
   "cell_type": "code",
   "execution_count": null,
   "metadata": {},
   "outputs": [],
   "source": []
  }
 ],
 "metadata": {
  "kernelspec": {
   "display_name": "Python 3 (ipykernel)",
   "language": "python",
   "name": "python3"
  },
  "language_info": {
   "codemirror_mode": {
    "name": "ipython",
    "version": 3
   },
   "file_extension": ".py",
   "mimetype": "text/x-python",
   "name": "python",
   "nbconvert_exporter": "python",
   "pygments_lexer": "ipython3",
   "version": "3.11.7"
  }
 },
 "nbformat": 4,
 "nbformat_minor": 4
}
